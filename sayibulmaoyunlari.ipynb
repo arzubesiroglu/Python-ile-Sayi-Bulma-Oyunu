{
 "cells": [
  {
   "cell_type": "code",
   "execution_count": null,
   "metadata": {},
   "outputs": [],
   "source": [
    "#   :crossed_swords: Bilgisayara Karşı Sayısal Düelloya Var mısın? :crossed_swords:\n",
    "import random\n",
    "# 1 ile 100 arasında rastgele bir sayı üret\n",
    "random_sayi = random.randint(1, 100)\n",
    "# Tahmin sayacını başlat\n",
    "tahmin_sayaci = 0\n",
    "while True:\n",
    "    # Kullanıcıdan bir tahmin iste\n",
    "    tahmin_edilen = int(input(\"1 ile 100 arası bir sayı tahmin edin: \"))\n",
    "    # Tahmin sayacını bir artır\n",
    "    tahmin_sayaci += 1\n",
    "    # Tahmini kontrol et\n",
    "    if tahmin_edilen < random_sayi:\n",
    "        print(f\"Tahmininiz {tahmin_edilen}, doğru sayıdan daha küçük, arttırarak tekrar deneyin!\")\n",
    "    elif tahmin_edilen > random_sayi:\n",
    "        print(f\"Tahmininiz {tahmin_edilen}, doğru sayıdan daha büyük, azaltarak tekrar deneyin!\")\n",
    "    else:\n",
    "        print(f\"Tebrikler! {tahmin_sayaci} tahminde sayıyı doğru tahmin ettiniz!\")\n",
    "        break\n",
    "# Oyun sonucunu göster\n",
    "print(f\"Doğru sayı: {random_sayi}\")"
   ]
  },
  {
   "cell_type": "code",
   "execution_count": null,
   "metadata": {},
   "outputs": [],
   "source": [
    "# :hourglass_flowing_sand: Heyecana Hazır mısın? 5 Hak ile Doğru Sayıyyı Bul ! :hourglass_flowing_sand:\n",
    "import random\n",
    "# 1 ile 100 arasında rastgele bir sayı üret\n",
    "random_sayi = random.randint(1, 100)\n",
    "hak_sayisi = 5  # Başlangıçtaki hak sayısı\n",
    "tahmin_sayaci = 0\n",
    "while hak_sayisi > 0 and tahmin_edilen != random_sayi:\n",
    "    tahmin_edilen = int(input(f\"1 ile 100 arası bir sayı tahmin edin ({hak_sayisi} hakkınız kaldı): \"))\n",
    "    tahmin_sayaci += 1\n",
    "    # Hak emojisi dizisi oluştur\n",
    "    hak_emojileri = [\":x:\", \":hourglass:️\", \":hourglass_flowing_sand::hourglass:️\", \":hourglass_flowing_sand::hourglass:️:hourglass:️\", \":hourglass_flowing_sand::hourglass:️:hourglass:️:hourglass:️\"]\n",
    "    # Kalan hak sayısına göre emojiyi seç\n",
    "    kalan_hak_emojisi = hak_emojileri[hak_sayisi - 1]\n",
    "    if tahmin_edilen < random_sayi:\n",
    "        print(f\"Tahmininiz {tahmin_edilen}, doğru sayıdan daha küçük, arttırarak tekrar deneyin!\")\n",
    "    elif tahmin_edilen > random_sayi:\n",
    "        print(f\"Tahmininiz {tahmin_edilen}, doğru sayıdan daha büyük, azaltarak tekrar deneyin!\")\n",
    "    else:\n",
    "        print(f\"Tebrikler! {tahmin_sayaci} tahminde doğru tahmin ettiniz!\")\n",
    "        break\n",
    "    # Hak çıktısını dinamik olarak oluştur\n",
    "    hak_ciktilari = f\"Kalan hak: {kalan_hak_emojisi} ({hak_sayisi} / 5)\"\n",
    "    print(hak_ciktilari)\n",
    "    hak_sayisi -= 1  # Her döngüde hak sayısını azalt\n",
    "if hak_sayisi == 0:\n",
    "    print(f\"Hakkınız bitti! Doğru sayı: {random_sayi}\")"
   ]
  }
 ],
 "metadata": {
  "language_info": {
   "name": "python"
  }
 },
 "nbformat": 4,
 "nbformat_minor": 2
}
